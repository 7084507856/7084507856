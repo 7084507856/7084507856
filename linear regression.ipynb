{
 "cells": [
  {
   "cell_type": "code",
   "execution_count": 32,
   "id": "d50b731e",
   "metadata": {},
   "outputs": [],
   "source": [
    "import numpy as np\n",
    "import pandas as pd\n",
    "from sklearn.linear_model import LinearRegression\n",
    "import matplotlib.pyplot as plt\n",
    "%matplotlib inline"
   ]
  },
  {
   "cell_type": "code",
   "execution_count": 36,
   "id": "66e42dca",
   "metadata": {},
   "outputs": [
    {
     "data": {
      "image/png": "[encoded data removed]",
      "text/plain": [
       "<Figure size 432x288 with 1 Axes>"
      ]
     },
     "metadata": {
      "needs_background": "light"
     },
     "output_type": "display_data"
    }
   ],
   "source": [
    "x = np.array([1,2,3,4,5,6,7,8,9,10])\n",
    "\n",
    "y = np.array([100,200,500,600,900,920,940,980,1100,1500])\n",
    "# scatter plot of original dataset\n",
    "plt.scatter(x,y)\n",
    "plt.show()"
   ]
  },
  {
   "cell_type": "code",
   "execution_count": 37,
   "id": "c6c7092c",
   "metadata": {},
   "outputs": [
    {
     "name": "stdout",
     "output_type": "stream",
     "text": [
      "[[ 1]\n",
      " [ 2]\n",
      " [ 3]\n",
      " [ 4]\n",
      " [ 5]\n",
      " [ 6]\n",
      " [ 7]\n",
      " [ 8]\n",
      " [ 9]\n",
      " [10]]\n"
     ]
    }
   ],
   "source": [
    "#required 2d data form so converting it into row\n",
    "x =  x.reshape(-1,1)\n",
    "print(x)"
   ]
  },
  {
   "cell_type": "code",
   "execution_count": 38,
   "id": "f4190dda",
   "metadata": {},
   "outputs": [],
   "source": [
    "model = LinearRegression()"
   ]
  },
  {
   "cell_type": "code",
   "execution_count": 39,
   "id": "1a3bb0e9",
   "metadata": {},
   "outputs": [
    {
     "data": {
      "text/plain": [
       "LinearRegression()"
      ]
     },
     "execution_count": 39,
     "metadata": {},
     "output_type": "execute_result"
    }
   ],
   "source": [
    "#fitting the dataset in model\n",
    "model.fit(x,y)"
   ]
  },
  {
   "cell_type": "code",
   "execution_count": 42,
   "id": "58fd3243",
   "metadata": {},
   "outputs": [
    {
     "name": "stdout",
     "output_type": "stream",
     "text": [
      "coefficient of determination: 0.9280272348680095\n"
     ]
    }
   ],
   "source": [
    "#determining the R2 value of the model which gives the accuracy of model also called coefficient of determination\n",
    "sq = model.score(x,y)\n",
    "print(\"coefficient of determination:\", sq)"
   ]
  },
  {
   "cell_type": "code",
   "execution_count": 43,
   "id": "eea2ecc0",
   "metadata": {},
   "outputs": [
    {
     "name": "stdout",
     "output_type": "stream",
     "text": [
      "C: 29.333333333333485\n"
     ]
    }
   ],
   "source": [
    "# regression line follows y = mx + c, here we are finding the intercept value of c\n",
    "intercept = model.intercept_\n",
    "print('C:',intercept)"
   ]
  },
  {
   "cell_type": "code",
   "execution_count": 44,
   "id": "bbcac724",
   "metadata": {},
   "outputs": [
    {
     "name": "stdout",
     "output_type": "stream",
     "text": [
      "M: [135.39393939]\n"
     ]
    }
   ],
   "source": [
    "# we are determining the value of slope m,it is very high which denoted that y is highly related to x\n",
    "coefficent = model.coef_\n",
    "print('M:',coefficent)"
   ]
  },
  {
   "cell_type": "code",
   "execution_count": 14,
   "id": "9a637561",
   "metadata": {},
   "outputs": [
    {
     "name": "stdout",
     "output_type": "stream",
     "text": [
      "[ 164.72727273  300.12121212  435.51515152  570.90909091  706.3030303\n",
      "  841.6969697   977.09090909 1112.48484848 1247.87878788 1383.27272727]\n"
     ]
    }
   ],
   "source": [
    "#predicting the future value \n",
    "y_predict = model.predict(x)\n",
    "print(y_predict)"
   ]
  },
  {
   "cell_type": "code",
   "execution_count": 27,
   "id": "2f0eee07",
   "metadata": {},
   "outputs": [
    {
     "data": {
      "image/png": "[encoded data removed]",
      "text/plain": [
       "<Figure size 432x288 with 1 Axes>"
      ]
     },
     "metadata": {
      "needs_background": "light"
     },
     "output_type": "display_data"
    }
   ],
   "source": [
    "# plotting the best fit regression line ,predicted values, and origoinal values\n",
    "plt.scatter(y_predict,x,color = 'red')\n",
    "plt.scatter(y,x)\n",
    "plt.plot(y_predict,x,color = 'blue')\n",
    "plt.show()"
   ]
  },
  {
   "cell_type": "code",
   "execution_count": null,
   "id": "1250f1e9",
   "metadata": {},
   "outputs": [],
   "source": []
  }
 ],
 "metadata": {
  "kernelspec": {
   "display_name": "Python 3",
   "language": "python",
   "name": "python3"
  },
  "language_info": {
   "codemirror_mode": {
    "name": "ipython",
    "version": 3
   },
   "file_extension": ".py",
   "mimetype": "text/x-python",
   "name": "python",
   "nbconvert_exporter": "python",
   "pygments_lexer": "ipython3",
   "version": "3.8.8"
  }
 },
 "nbformat": 4,
 "nbformat_minor": 5
}
